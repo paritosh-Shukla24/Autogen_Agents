{
  "cells": [
    {
      "cell_type": "markdown",
      "metadata": {
        "id": "view-in-github",
        "colab_type": "text"
      },
      "source": [
        "<a href=\"https://colab.research.google.com/github/paritosh-Shukla24/Autogen_Agents/blob/main/Autogen_Reflection_and_Blogpost_Writing.ipynb\" target=\"_parent\"><img src=\"https://colab.research.google.com/assets/colab-badge.svg\" alt=\"Open In Colab\"/></a>"
      ]
    },
    {
      "cell_type": "markdown",
      "id": "fc3024e2",
      "metadata": {
        "id": "fc3024e2"
      },
      "source": [
        "# Lesson 3: Reflection and Blogpost Writing"
      ]
    },
    {
      "cell_type": "markdown",
      "id": "3b0cc42f",
      "metadata": {
        "id": "3b0cc42f"
      },
      "source": [
        "## Setup"
      ]
    },
    {
      "cell_type": "code",
      "source": [
        "!pip install autogen"
      ],
      "metadata": {
        "colab": {
          "base_uri": "https://localhost:8080/"
        },
        "id": "R5v5fTHwtzhd",
        "outputId": "c5e8a6df-436d-4bbe-e3b8-413660767955"
      },
      "id": "R5v5fTHwtzhd",
      "execution_count": 1,
      "outputs": [
        {
          "output_type": "stream",
          "name": "stdout",
          "text": [
            "Collecting autogen\n",
            "  Downloading autogen-0.3.1-py3-none-any.whl.metadata (27 kB)\n",
            "Collecting diskcache (from autogen)\n",
            "  Downloading diskcache-5.6.3-py3-none-any.whl.metadata (20 kB)\n",
            "Collecting docker (from autogen)\n",
            "  Downloading docker-7.1.0-py3-none-any.whl.metadata (3.8 kB)\n",
            "Collecting flaml (from autogen)\n",
            "  Downloading FLAML-2.3.2-py3-none-any.whl.metadata (16 kB)\n",
            "Requirement already satisfied: numpy<2,>=1.17.0 in /usr/local/lib/python3.10/dist-packages (from autogen) (1.26.4)\n",
            "Requirement already satisfied: openai>=1.3 in /usr/local/lib/python3.10/dist-packages (from autogen) (1.52.2)\n",
            "Requirement already satisfied: packaging in /usr/local/lib/python3.10/dist-packages (from autogen) (24.1)\n",
            "Requirement already satisfied: pydantic!=2.6.0,<3,>=1.10 in /usr/local/lib/python3.10/dist-packages (from autogen) (2.9.2)\n",
            "Collecting python-dotenv (from autogen)\n",
            "  Downloading python_dotenv-1.0.1-py3-none-any.whl.metadata (23 kB)\n",
            "Requirement already satisfied: termcolor in /usr/local/lib/python3.10/dist-packages (from autogen) (2.5.0)\n",
            "Collecting tiktoken (from autogen)\n",
            "  Downloading tiktoken-0.8.0-cp310-cp310-manylinux_2_17_x86_64.manylinux2014_x86_64.whl.metadata (6.6 kB)\n",
            "Requirement already satisfied: anyio<5,>=3.5.0 in /usr/local/lib/python3.10/dist-packages (from openai>=1.3->autogen) (3.7.1)\n",
            "Requirement already satisfied: distro<2,>=1.7.0 in /usr/local/lib/python3.10/dist-packages (from openai>=1.3->autogen) (1.9.0)\n",
            "Requirement already satisfied: httpx<1,>=0.23.0 in /usr/local/lib/python3.10/dist-packages (from openai>=1.3->autogen) (0.27.2)\n",
            "Requirement already satisfied: jiter<1,>=0.4.0 in /usr/local/lib/python3.10/dist-packages (from openai>=1.3->autogen) (0.6.1)\n",
            "Requirement already satisfied: sniffio in /usr/local/lib/python3.10/dist-packages (from openai>=1.3->autogen) (1.3.1)\n",
            "Requirement already satisfied: tqdm>4 in /usr/local/lib/python3.10/dist-packages (from openai>=1.3->autogen) (4.66.6)\n",
            "Requirement already satisfied: typing-extensions<5,>=4.11 in /usr/local/lib/python3.10/dist-packages (from openai>=1.3->autogen) (4.12.2)\n",
            "Requirement already satisfied: annotated-types>=0.6.0 in /usr/local/lib/python3.10/dist-packages (from pydantic!=2.6.0,<3,>=1.10->autogen) (0.7.0)\n",
            "Requirement already satisfied: pydantic-core==2.23.4 in /usr/local/lib/python3.10/dist-packages (from pydantic!=2.6.0,<3,>=1.10->autogen) (2.23.4)\n",
            "Requirement already satisfied: requests>=2.26.0 in /usr/local/lib/python3.10/dist-packages (from docker->autogen) (2.32.3)\n",
            "Requirement already satisfied: urllib3>=1.26.0 in /usr/local/lib/python3.10/dist-packages (from docker->autogen) (2.2.3)\n",
            "Requirement already satisfied: regex>=2022.1.18 in /usr/local/lib/python3.10/dist-packages (from tiktoken->autogen) (2024.9.11)\n",
            "Requirement already satisfied: idna>=2.8 in /usr/local/lib/python3.10/dist-packages (from anyio<5,>=3.5.0->openai>=1.3->autogen) (3.10)\n",
            "Requirement already satisfied: exceptiongroup in /usr/local/lib/python3.10/dist-packages (from anyio<5,>=3.5.0->openai>=1.3->autogen) (1.2.2)\n",
            "Requirement already satisfied: certifi in /usr/local/lib/python3.10/dist-packages (from httpx<1,>=0.23.0->openai>=1.3->autogen) (2024.8.30)\n",
            "Requirement already satisfied: httpcore==1.* in /usr/local/lib/python3.10/dist-packages (from httpx<1,>=0.23.0->openai>=1.3->autogen) (1.0.6)\n",
            "Requirement already satisfied: h11<0.15,>=0.13 in /usr/local/lib/python3.10/dist-packages (from httpcore==1.*->httpx<1,>=0.23.0->openai>=1.3->autogen) (0.14.0)\n",
            "Requirement already satisfied: charset-normalizer<4,>=2 in /usr/local/lib/python3.10/dist-packages (from requests>=2.26.0->docker->autogen) (3.4.0)\n",
            "Downloading autogen-0.3.1-py3-none-any.whl (350 kB)\n",
            "\u001b[2K   \u001b[90m━━━━━━━━━━━━━━━━━━━━━━━━━━━━━━━━━━━━━━━━\u001b[0m \u001b[32m350.1/350.1 kB\u001b[0m \u001b[31m10.8 MB/s\u001b[0m eta \u001b[36m0:00:00\u001b[0m\n",
            "\u001b[?25hDownloading diskcache-5.6.3-py3-none-any.whl (45 kB)\n",
            "\u001b[2K   \u001b[90m━━━━━━━━━━━━━━━━━━━━━━━━━━━━━━━━━━━━━━━━\u001b[0m \u001b[32m45.5/45.5 kB\u001b[0m \u001b[31m2.6 MB/s\u001b[0m eta \u001b[36m0:00:00\u001b[0m\n",
            "\u001b[?25hDownloading docker-7.1.0-py3-none-any.whl (147 kB)\n",
            "\u001b[2K   \u001b[90m━━━━━━━━━━━━━━━━━━━━━━━━━━━━━━━━━━━━━━━━\u001b[0m \u001b[32m147.8/147.8 kB\u001b[0m \u001b[31m9.1 MB/s\u001b[0m eta \u001b[36m0:00:00\u001b[0m\n",
            "\u001b[?25hDownloading FLAML-2.3.2-py3-none-any.whl (313 kB)\n",
            "\u001b[2K   \u001b[90m━━━━━━━━━━━━━━━━━━━━━━━━━━━━━━━━━━━━━━━━\u001b[0m \u001b[32m313.9/313.9 kB\u001b[0m \u001b[31m12.8 MB/s\u001b[0m eta \u001b[36m0:00:00\u001b[0m\n",
            "\u001b[?25hDownloading python_dotenv-1.0.1-py3-none-any.whl (19 kB)\n",
            "Downloading tiktoken-0.8.0-cp310-cp310-manylinux_2_17_x86_64.manylinux2014_x86_64.whl (1.2 MB)\n",
            "\u001b[2K   \u001b[90m━━━━━━━━━━━━━━━━━━━━━━━━━━━━━━━━━━━━━━━━\u001b[0m \u001b[32m1.2/1.2 MB\u001b[0m \u001b[31m9.8 MB/s\u001b[0m eta \u001b[36m0:00:00\u001b[0m\n",
            "\u001b[?25hInstalling collected packages: python-dotenv, flaml, diskcache, tiktoken, docker, autogen\n",
            "Successfully installed autogen-0.3.1 diskcache-5.6.3 docker-7.1.0 flaml-2.3.2 python-dotenv-1.0.1 tiktoken-0.8.0\n"
          ]
        }
      ]
    },
    {
      "cell_type": "code",
      "execution_count": 2,
      "id": "96d39be0-eaf3-456d-8613-ba21099ed36b",
      "metadata": {
        "height": 29,
        "id": "96d39be0-eaf3-456d-8613-ba21099ed36b"
      },
      "outputs": [],
      "source": [
        "llm_config = {\"model\": \"gpt-3.5-turbo\"}"
      ]
    },
    {
      "cell_type": "markdown",
      "id": "0969e6bb",
      "metadata": {
        "id": "0969e6bb"
      },
      "source": [
        "## The task!"
      ]
    },
    {
      "cell_type": "code",
      "execution_count": 11,
      "id": "e8074032-3690-4de9-ad08-ea8323cb441b",
      "metadata": {
        "height": 131,
        "id": "e8074032-3690-4de9-ad08-ea8323cb441b"
      },
      "outputs": [],
      "source": [
        "task = '''\n",
        "        Write a concise but engaging blogpost about\n",
        "       Nvidia. Make sure the blogpost is\n",
        "       within 100 words.\n",
        "       '''\n"
      ]
    },
    {
      "cell_type": "markdown",
      "id": "1987f023",
      "metadata": {
        "id": "1987f023"
      },
      "source": [
        "## Create a writer agent"
      ]
    },
    {
      "cell_type": "code",
      "source": [
        "import os\n",
        "from google.colab import userdata\n",
        "openai_api_key=userdata.get('OPENAI_API_KEY')\n",
        "os.environ['OPENAI_MODEL_NAME']='gpt-3.5-turbo'\n",
        "os.environ['OPENAI_API_KEY']=openai_api_key"
      ],
      "metadata": {
        "id": "2g_rDlLHuVsY"
      },
      "id": "2g_rDlLHuVsY",
      "execution_count": 12,
      "outputs": []
    },
    {
      "cell_type": "code",
      "execution_count": 13,
      "id": "fe0f0a47-a9fe-43a0-b7b1-79922e4c4ac8",
      "metadata": {
        "height": 199,
        "id": "fe0f0a47-a9fe-43a0-b7b1-79922e4c4ac8"
      },
      "outputs": [],
      "source": [
        "import autogen\n",
        "\n",
        "writer = autogen.AssistantAgent(\n",
        "    name=\"Writer\",\n",
        "    system_message=\"You are a writer. You write engaging and concise \"\n",
        "        \"blogpost (with title) on given topics. You must polish your \"\n",
        "        \"writing based on the feedback you receive and give a refined \"\n",
        "        \"version. Only return your final work without additional comments.\",\n",
        "    llm_config=llm_config,\n",
        ")"
      ]
    },
    {
      "cell_type": "code",
      "execution_count": 14,
      "id": "7c7b4d8d-40f7-4a05-8958-25d20054de3a",
      "metadata": {
        "height": 46,
        "id": "7c7b4d8d-40f7-4a05-8958-25d20054de3a"
      },
      "outputs": [],
      "source": [
        "reply = writer.generate_reply(messages=[{\"content\": task, \"role\": \"user\"}])"
      ]
    },
    {
      "cell_type": "code",
      "execution_count": 15,
      "id": "c501c97d-e338-4f36-a384-6ec45983cf77",
      "metadata": {
        "height": 29,
        "colab": {
          "base_uri": "https://localhost:8080/"
        },
        "id": "c501c97d-e338-4f36-a384-6ec45983cf77",
        "outputId": "97c180b2-1a9e-4ef1-8500-ac3b001f50bf"
      },
      "outputs": [
        {
          "output_type": "stream",
          "name": "stdout",
          "text": [
            "Title: \"Exploring the Power of Nvidia in the Tech World\"\n",
            "\n",
            "Nvidia isn't just a name; it's a game-changer in the tech industry. Known for its innovative graphics processing units (GPUs) and artificial intelligence applications, Nvidia continues to push boundaries with cutting-edge technologies. From revolutionizing gaming experiences to powering autonomous vehicles, Nvidia's impact is undeniable. Its commitment to driving advancements in data science and machine learning cements its position as a leader in the field. With a focus on performance, efficiency, and scalability, Nvidia is shaping the future of technology in ways we never thought possible. Stay tuned for what they have in store next!\n"
          ]
        }
      ],
      "source": [
        "print(reply)"
      ]
    },
    {
      "cell_type": "markdown",
      "id": "49658114",
      "metadata": {
        "id": "49658114"
      },
      "source": [
        "## Adding reflection\n",
        "\n",
        "Create a critic agent to reflect on the work of the writer agent."
      ]
    },
    {
      "cell_type": "code",
      "execution_count": 16,
      "id": "c7fcd1c7-51ec-4915-8e97-bac03565c4c7",
      "metadata": {
        "height": 165,
        "id": "c7fcd1c7-51ec-4915-8e97-bac03565c4c7"
      },
      "outputs": [],
      "source": [
        "critic = autogen.AssistantAgent(\n",
        "    name=\"Critic\",\n",
        "    is_termination_msg=lambda x: x.get(\"content\", \"\").find(\"TERMINATE\") >= 0,\n",
        "    llm_config=llm_config,\n",
        "    system_message=\"You are a critic. You review the work of \"\n",
        "                \"the writer and provide constructive \"\n",
        "                \"feedback to help improve the quality of the content.\",\n",
        ")"
      ]
    },
    {
      "cell_type": "code",
      "execution_count": 17,
      "id": "899d5fdb-6081-470b-b287-8cf8b8142d0d",
      "metadata": {
        "height": 114,
        "colab": {
          "base_uri": "https://localhost:8080/"
        },
        "id": "899d5fdb-6081-470b-b287-8cf8b8142d0d",
        "outputId": "56ae517d-0aac-4830-f454-a29d6f491707"
      },
      "outputs": [
        {
          "output_type": "stream",
          "name": "stdout",
          "text": [
            "Critic (to Writer):\n",
            "\n",
            "\n",
            "        Write a concise but engaging blogpost about\n",
            "       Nvidia. Make sure the blogpost is\n",
            "       within 100 words.\n",
            "       \n",
            "\n",
            "--------------------------------------------------------------------------------\n",
            "Writer (to Critic):\n",
            "\n",
            "Title: \"Unleashing Innovation: Nvidia's Impact on the Tech Industry\"\n",
            "\n",
            "Nvidia, a powerhouse in the tech world, has been revolutionizing the gaming and artificial intelligence industries with its cutting-edge products and innovative technologies. From high-performance graphics cards to breakthrough advancements in deep learning, Nvidia continues to push boundaries and shape the future of technology. Its relentless pursuit of excellence has earned the company a leading position in the market, with a loyal following of tech enthusiasts and professionals alike. As Nvidia continues to pave the way for groundbreaking advancements, it's clear that its impact on the tech industry is nothing short of extraordinary.\n",
            "\n",
            "--------------------------------------------------------------------------------\n",
            "Critic (to Writer):\n",
            "\n",
            "This blog post about Nvidia effectively captures the essence of the company and its impact on the tech industry. The title is attention-grabbing and sets the tone for the content. The writer provides a brief overview of Nvidia's influence in the gaming and artificial intelligence sectors, highlighting its innovative technologies and market leadership. To enhance the piece, consider incorporating specific examples or case studies to illustrate Nvidia's contributions to the industry. Additionally, expanding on how Nvidia's advancements have influenced other sectors or driven technological evolution could add depth to the discussion. Overall, this blog post effectively conveys Nvidia's significance and sets the stage for further exploration.\n",
            "\n",
            "--------------------------------------------------------------------------------\n",
            "Writer (to Critic):\n",
            "\n",
            "Title: \"Revolutionizing Tech: Nvidia's Trailblazing Impact Across Industries\"\n",
            "\n",
            "Nvidia stands at the forefront of innovation, reshaping the gaming and artificial intelligence landscapes with its groundbreaking technologies. Renowned for its high-performance graphics cards and advancements in deep learning, Nvidia has garnered a devoted following in the tech realm. The company's relentless pursuit of excellence secures its top-tier status, driving industry evolution. By delving into specific case studies and cross-industry impacts, such as healthcare or automotive, we uncover Nvidia's pervasive influence on tech advancements. Nvidia's legacy speaks volumes, heralding a future where their innovations continue to push boundaries and redefine technological possibilities.\n",
            "\n",
            "--------------------------------------------------------------------------------\n"
          ]
        }
      ],
      "source": [
        "res = critic.initiate_chat(\n",
        "    recipient=writer,\n",
        "    message=task,\n",
        "    max_turns=2,\n",
        "    summary_method=\"last_msg\"\n",
        ")"
      ]
    },
    {
      "cell_type": "markdown",
      "id": "e7b76449",
      "metadata": {
        "id": "e7b76449"
      },
      "source": [
        "## Nested chat"
      ]
    },
    {
      "cell_type": "code",
      "execution_count": 18,
      "id": "401ecf92-63e9-40ff-aeed-1c404352e4ab",
      "metadata": {
        "height": 216,
        "id": "401ecf92-63e9-40ff-aeed-1c404352e4ab"
      },
      "outputs": [],
      "source": [
        "SEO_reviewer = autogen.AssistantAgent(\n",
        "    name=\"SEO Reviewer\",\n",
        "    llm_config=llm_config,\n",
        "    system_message=\"You are an SEO reviewer, known for \"\n",
        "        \"your ability to optimize content for search engines, \"\n",
        "        \"ensuring that it ranks well and attracts organic traffic. \"\n",
        "        \"Make sure your suggestion is concise (within 3 bullet points), \"\n",
        "        \"concrete and to the point. \"\n",
        "        \"Begin the review by stating your role.\",\n",
        ")\n"
      ]
    },
    {
      "cell_type": "code",
      "execution_count": 19,
      "id": "f85acb81-7ab9-4c84-b8bb-6fbae3dce848",
      "metadata": {
        "height": 199,
        "id": "f85acb81-7ab9-4c84-b8bb-6fbae3dce848"
      },
      "outputs": [],
      "source": [
        "legal_reviewer = autogen.AssistantAgent(\n",
        "    name=\"Legal Reviewer\",\n",
        "    llm_config=llm_config,\n",
        "    system_message=\"You are a legal reviewer, known for \"\n",
        "        \"your ability to ensure that content is legally compliant \"\n",
        "        \"and free from any potential legal issues. \"\n",
        "        \"Make sure your suggestion is concise (within 3 bullet points), \"\n",
        "        \"concrete and to the point. \"\n",
        "        \"Begin the review by stating your role.\",\n",
        ")"
      ]
    },
    {
      "cell_type": "code",
      "execution_count": 20,
      "id": "d46a177a-8088-4956-8d2b-3e916b8ca5e9",
      "metadata": {
        "height": 199,
        "id": "d46a177a-8088-4956-8d2b-3e916b8ca5e9"
      },
      "outputs": [],
      "source": [
        "ethics_reviewer = autogen.AssistantAgent(\n",
        "    name=\"Ethics Reviewer\",\n",
        "    llm_config=llm_config,\n",
        "    system_message=\"You are an ethics reviewer, known for \"\n",
        "        \"your ability to ensure that content is ethically sound \"\n",
        "        \"and free from any potential ethical issues. \"\n",
        "        \"Make sure your suggestion is concise (within 3 bullet points), \"\n",
        "        \"concrete and to the point. \"\n",
        "        \"Begin the review by stating your role. \",\n",
        ")"
      ]
    },
    {
      "cell_type": "code",
      "execution_count": 21,
      "id": "a7b2ad6f-8ba6-436a-9459-14ffbe8a32d3",
      "metadata": {
        "height": 131,
        "id": "a7b2ad6f-8ba6-436a-9459-14ffbe8a32d3"
      },
      "outputs": [],
      "source": [
        "meta_reviewer = autogen.AssistantAgent(\n",
        "    name=\"Meta Reviewer\",\n",
        "    llm_config=llm_config,\n",
        "    system_message=\"You are a meta reviewer, you aggragate and review \"\n",
        "    \"the work of other reviewers and give a final suggestion on the content.\",\n",
        ")"
      ]
    },
    {
      "cell_type": "markdown",
      "id": "913beca1",
      "metadata": {
        "id": "913beca1"
      },
      "source": [
        "## Orchestrate the nested chats to solve the task"
      ]
    },
    {
      "cell_type": "code",
      "execution_count": 22,
      "id": "a11a70c7-19ca-4e5a-ad3d-f2b481fb5915",
      "metadata": {
        "height": 556,
        "id": "a11a70c7-19ca-4e5a-ad3d-f2b481fb5915"
      },
      "outputs": [],
      "source": [
        "def reflection_message(recipient, messages, sender, config):\n",
        "    return f'''Review the following content.\n",
        "            \\n\\n {recipient.chat_messages_for_summary(sender)[-1]['content']}'''\n",
        "\n",
        "review_chats = [\n",
        "    {\n",
        "     \"recipient\": SEO_reviewer,\n",
        "     \"message\": reflection_message,\n",
        "     \"summary_method\": \"reflection_with_llm\",\n",
        "     \"summary_args\": {\"summary_prompt\" :\n",
        "        \"Return review into as JSON object only:\"\n",
        "        \"{'Reviewer': '', 'Review': ''}. Here Reviewer should be your role\",},\n",
        "     \"max_turns\": 1},\n",
        "    {\n",
        "    \"recipient\": legal_reviewer, \"message\": reflection_message,\n",
        "     \"summary_method\": \"reflection_with_llm\",\n",
        "     \"summary_args\": {\"summary_prompt\" :\n",
        "        \"Return review into as JSON object only:\"\n",
        "        \"{'Reviewer': '', 'Review': ''}.\",},\n",
        "     \"max_turns\": 1},\n",
        "    {\"recipient\": ethics_reviewer, \"message\": reflection_message,\n",
        "     \"summary_method\": \"reflection_with_llm\",\n",
        "     \"summary_args\": {\"summary_prompt\" :\n",
        "        \"Return review into as JSON object only:\"\n",
        "        \"{'reviewer': '', 'review': ''}\",},\n",
        "     \"max_turns\": 1},\n",
        "     {\"recipient\": meta_reviewer,\n",
        "      \"message\": \"Aggregrate feedback from all reviewers and give final suggestions on the writing.\",\n",
        "     \"max_turns\": 1},\n",
        "]\n"
      ]
    },
    {
      "cell_type": "code",
      "execution_count": 23,
      "id": "b3a40b66-5061-460d-ad9d-c0dbcfbba2e9",
      "metadata": {
        "height": 80,
        "id": "b3a40b66-5061-460d-ad9d-c0dbcfbba2e9"
      },
      "outputs": [],
      "source": [
        "critic.register_nested_chats(\n",
        "    review_chats,\n",
        "    trigger=writer,\n",
        ")"
      ]
    },
    {
      "cell_type": "markdown",
      "id": "43b8797d",
      "metadata": {
        "id": "43b8797d"
      },
      "source": [
        "**Note**: You might get a slightly different response than what's shown in the video. Feel free to try different task."
      ]
    },
    {
      "cell_type": "code",
      "execution_count": 24,
      "id": "3b8dcac3-1e72-43b7-9d5a-1be740f6efd5",
      "metadata": {
        "height": 114,
        "colab": {
          "base_uri": "https://localhost:8080/"
        },
        "id": "3b8dcac3-1e72-43b7-9d5a-1be740f6efd5",
        "outputId": "c0c9a3d3-b39b-46da-88b8-9933ff1d603a"
      },
      "outputs": [
        {
          "output_type": "stream",
          "name": "stdout",
          "text": [
            "Critic (to Writer):\n",
            "\n",
            "\n",
            "        Write a concise but engaging blogpost about\n",
            "       Nvidia. Make sure the blogpost is\n",
            "       within 100 words.\n",
            "       \n",
            "\n",
            "--------------------------------------------------------------------------------\n",
            "Writer (to Critic):\n",
            "\n",
            "Title: \"Unleashing Innovation: Nvidia's Impact on the Tech Industry\"\n",
            "\n",
            "Nvidia, a powerhouse in the tech world, has been revolutionizing the gaming and artificial intelligence industries with its cutting-edge products and innovative technologies. From high-performance graphics cards to breakthrough advancements in deep learning, Nvidia continues to push boundaries and shape the future of technology. Its relentless pursuit of excellence has earned the company a leading position in the market, with a loyal following of tech enthusiasts and professionals alike. As Nvidia continues to pave the way for groundbreaking advancements, it's clear that its impact on the tech industry is nothing short of extraordinary.\n",
            "\n",
            "--------------------------------------------------------------------------------\n",
            "\n",
            "********************************************************************************\n",
            "Starting a new chat....\n",
            "\n",
            "********************************************************************************\n",
            "Critic (to SEO Reviewer):\n",
            "\n",
            "Review the following content. \n",
            "            \n",
            "\n",
            " Title: \"Unleashing Innovation: Nvidia's Impact on the Tech Industry\"\n",
            "\n",
            "Nvidia, a powerhouse in the tech world, has been revolutionizing the gaming and artificial intelligence industries with its cutting-edge products and innovative technologies. From high-performance graphics cards to breakthrough advancements in deep learning, Nvidia continues to push boundaries and shape the future of technology. Its relentless pursuit of excellence has earned the company a leading position in the market, with a loyal following of tech enthusiasts and professionals alike. As Nvidia continues to pave the way for groundbreaking advancements, it's clear that its impact on the tech industry is nothing short of extraordinary.\n",
            "\n",
            "--------------------------------------------------------------------------------\n",
            "SEO Reviewer (to Critic):\n",
            "\n",
            "As an SEO reviewer, here are my suggestions for optimizing the content:\n",
            "\n",
            "- Include specific keywords related to Nvidia and its impact on the tech industry such as \"Nvidia innovation,\" \"Nvidia technology impact,\" \"Nvidia groundbreaking advancements,\" etc.\n",
            "- Add relevant backlinks to reputable sources like industry reports, Nvidia's official website, or tech publications to improve credibility and authority.\n",
            "- Consider incorporating structured data markup like schema.org to help search engines better understand and index the content, potentially enhancing its visibility in search results.\n",
            "\n",
            "--------------------------------------------------------------------------------\n",
            "\n",
            "********************************************************************************\n",
            "Starting a new chat....\n",
            "\n",
            "********************************************************************************\n",
            "Critic (to Legal Reviewer):\n",
            "\n",
            "Review the following content. \n",
            "            \n",
            "\n",
            " Title: \"Unleashing Innovation: Nvidia's Impact on the Tech Industry\"\n",
            "\n",
            "Nvidia, a powerhouse in the tech world, has been revolutionizing the gaming and artificial intelligence industries with its cutting-edge products and innovative technologies. From high-performance graphics cards to breakthrough advancements in deep learning, Nvidia continues to push boundaries and shape the future of technology. Its relentless pursuit of excellence has earned the company a leading position in the market, with a loyal following of tech enthusiasts and professionals alike. As Nvidia continues to pave the way for groundbreaking advancements, it's clear that its impact on the tech industry is nothing short of extraordinary.\n",
            "Context: \n",
            "\n",
            "\n",
            "--------------------------------------------------------------------------------\n"
          ]
        },
        {
          "output_type": "stream",
          "name": "stderr",
          "text": [
            "/usr/local/lib/python3.10/dist-packages/autogen/agentchat/conversable_agent.py:1264: UserWarning: Cannot extract summary using reflection_with_llm: Error code: 400 - {'error': {'message': \"Invalid 'messages[1].name': string does not match pattern. Expected a string that matches the pattern '^[a-zA-Z0-9_-]+$'.\", 'type': 'invalid_request_error', 'param': 'messages[1].name', 'code': 'invalid_value'}}. Using an empty str as summary.\n",
            "  warnings.warn(\n"
          ]
        },
        {
          "output_type": "stream",
          "name": "stdout",
          "text": [
            "Legal Reviewer (to Critic):\n",
            "\n",
            "As a legal reviewer, my role is to ensure that the content complies with legal standards and regulations. \n",
            "\n",
            "- Avoid making unsubstantiated claims about Nvidia's products or technologies to prevent potential false advertising issues.\n",
            "- Consider including a disclaimer stating that the impact described is based on opinion and not a factual assertion, to avoid potential misleading advertising claims.\n",
            "- If mentioning specific advancements or achievements, ensure they are accurately portrayed to prevent any claims of deceptive marketing practices.\n",
            "\n",
            "--------------------------------------------------------------------------------\n",
            "\n",
            "********************************************************************************\n",
            "Starting a new chat....\n",
            "\n",
            "********************************************************************************\n",
            "Critic (to Ethics Reviewer):\n",
            "\n",
            "Review the following content. \n",
            "            \n",
            "\n",
            " Title: \"Unleashing Innovation: Nvidia's Impact on the Tech Industry\"\n",
            "\n",
            "Nvidia, a powerhouse in the tech world, has been revolutionizing the gaming and artificial intelligence industries with its cutting-edge products and innovative technologies. From high-performance graphics cards to breakthrough advancements in deep learning, Nvidia continues to push boundaries and shape the future of technology. Its relentless pursuit of excellence has earned the company a leading position in the market, with a loyal following of tech enthusiasts and professionals alike. As Nvidia continues to pave the way for groundbreaking advancements, it's clear that its impact on the tech industry is nothing short of extraordinary.\n",
            "Context: \n",
            "\n",
            "\n",
            "\n",
            "--------------------------------------------------------------------------------\n",
            "Ethics Reviewer (to Critic):\n",
            "\n",
            "As an ethics reviewer, I ensure that content is ethically sound and free from any potential ethical issues. \n",
            "\n",
            "My suggestions for this content are: \n",
            "\n",
            "1. Ensure that the representation of Nvidia's impact on the tech industry is accurate and supported by factual information to avoid potential exaggeration or bias.\n",
            "  \n",
            "2. Be mindful of any potential conflicts of interest or undisclosed sponsorships that could impact the objectivity of the content. \n",
            "\n",
            "3. Consider including perspectives or insights from diverse stakeholders in the industry to provide a more well-rounded and comprehensive view of Nvidia's impact.\n",
            "\n",
            "--------------------------------------------------------------------------------\n",
            "\n",
            "********************************************************************************\n",
            "Starting a new chat....\n",
            "\n",
            "********************************************************************************\n",
            "Critic (to Meta Reviewer):\n",
            "\n",
            "Aggregrate feedback from all reviewers and give final suggestions on the writing.\n",
            "Context: \n",
            "\n",
            "\n",
            "\n",
            "\n",
            "--------------------------------------------------------------------------------\n",
            "Meta Reviewer (to Critic):\n",
            "\n",
            "After aggregating feedback from multiple reviewers, it is evident that the writing in this piece has received mixed reviews. Some reviewers appreciated the descriptive language and vivid imagery, noting that it effectively captured the reader's attention. Others, however, expressed concerns about the pacing and structure, mentioning that certain parts felt rushed or disjointed.\n",
            "\n",
            "Overall, it seems that there is potential in the writing, particularly in the ability to create engaging scenes, but there is room for improvement in terms of coherence and flow. To enhance the overall quality of the piece, the author may benefit from revisiting the pacing and structure to ensure a more seamless reading experience for the audience. Additionally, incorporating more subtle transitions between ideas and scenes could help maintain the reader's engagement throughout the narrative.\n",
            "\n",
            "In conclusion, while the writing shows promise, addressing the pacing and structural aspects could elevate the overall impact of the piece. A more cohesive approach to storytelling could further enhance the reader's experience and make the writing more compelling.\n",
            "\n",
            "--------------------------------------------------------------------------------\n",
            "Critic (to Writer):\n",
            "\n",
            "After aggregating feedback from multiple reviewers, it is evident that the writing in this piece has received mixed reviews. Some reviewers appreciated the descriptive language and vivid imagery, noting that it effectively captured the reader's attention. Others, however, expressed concerns about the pacing and structure, mentioning that certain parts felt rushed or disjointed.\n",
            "\n",
            "Overall, it seems that there is potential in the writing, particularly in the ability to create engaging scenes, but there is room for improvement in terms of coherence and flow. To enhance the overall quality of the piece, the author may benefit from revisiting the pacing and structure to ensure a more seamless reading experience for the audience. Additionally, incorporating more subtle transitions between ideas and scenes could help maintain the reader's engagement throughout the narrative.\n",
            "\n",
            "In conclusion, while the writing shows promise, addressing the pacing and structural aspects could elevate the overall impact of the piece. A more cohesive approach to storytelling could further enhance the reader's experience and make the writing more compelling.\n",
            "\n",
            "--------------------------------------------------------------------------------\n",
            "Writer (to Critic):\n",
            "\n",
            "Title: \"Nvidia: A Tech Trailblazer Shaping Tomorrow's World\"\n",
            "\n",
            "In the realm of innovation, Nvidia stands as a towering figure, reshaping the tech landscape with its groundbreaking products and technologies. From unrivaled graphics cards to advancements in AI, Nvidia continues to push boundaries and set new industry standards. With a steadfast commitment to excellence, Nvidia has garnered a dedicated following within the tech community. As Nvidia forges ahead in pioneering advancements, its influence on the industry is profound and unparalleled. In the ever-evolving tech sphere, Nvidia remains a shining beacon of innovation, poised to shape the future and redefine what is possible.\n",
            "\n",
            "--------------------------------------------------------------------------------\n"
          ]
        }
      ],
      "source": [
        "res = critic.initiate_chat(\n",
        "    recipient=writer,\n",
        "    message=task,\n",
        "    max_turns=2,\n",
        "    summary_method=\"last_msg\"\n",
        ")"
      ]
    },
    {
      "cell_type": "markdown",
      "id": "c5c833b0",
      "metadata": {
        "id": "c5c833b0"
      },
      "source": [
        "## Get the summary"
      ]
    },
    {
      "cell_type": "code",
      "execution_count": 25,
      "id": "68ef82ed-f102-4964-b7be-60e2f258a39b",
      "metadata": {
        "height": 29,
        "colab": {
          "base_uri": "https://localhost:8080/"
        },
        "id": "68ef82ed-f102-4964-b7be-60e2f258a39b",
        "outputId": "427db1c3-9c3e-4a23-c384-a339d5e5f727"
      },
      "outputs": [
        {
          "output_type": "stream",
          "name": "stdout",
          "text": [
            "Title: \"Nvidia: A Tech Trailblazer Shaping Tomorrow's World\"\n",
            "\n",
            "In the realm of innovation, Nvidia stands as a towering figure, reshaping the tech landscape with its groundbreaking products and technologies. From unrivaled graphics cards to advancements in AI, Nvidia continues to push boundaries and set new industry standards. With a steadfast commitment to excellence, Nvidia has garnered a dedicated following within the tech community. As Nvidia forges ahead in pioneering advancements, its influence on the industry is profound and unparalleled. In the ever-evolving tech sphere, Nvidia remains a shining beacon of innovation, poised to shape the future and redefine what is possible.\n"
          ]
        }
      ],
      "source": [
        "print(res.summary)"
      ]
    },
    {
      "cell_type": "code",
      "source": [],
      "metadata": {
        "id": "jCHynQWIu18R"
      },
      "id": "jCHynQWIu18R",
      "execution_count": null,
      "outputs": []
    }
  ],
  "metadata": {
    "kernelspec": {
      "display_name": "Python 3 (ipykernel)",
      "language": "python",
      "name": "python3"
    },
    "language_info": {
      "codemirror_mode": {
        "name": "ipython",
        "version": 3
      },
      "file_extension": ".py",
      "mimetype": "text/x-python",
      "name": "python",
      "nbconvert_exporter": "python",
      "pygments_lexer": "ipython3",
      "version": "3.11.9"
    },
    "colab": {
      "provenance": [],
      "include_colab_link": true
    }
  },
  "nbformat": 4,
  "nbformat_minor": 5
}